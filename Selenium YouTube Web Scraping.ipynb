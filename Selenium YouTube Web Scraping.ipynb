{
 "cells": [
  {
   "attachments": {},
   "cell_type": "markdown",
   "metadata": {},
   "source": [
    "Install required packages:\n",
    "   pip install selenium pandas webdriver-manager"
   ]
  },
  {
   "cell_type": "code",
   "execution_count": 12,
   "metadata": {},
   "outputs": [],
   "source": [
    "from selenium import webdriver\n",
    "from selenium.webdriver.chrome.service import Service\n",
    "from webdriver_manager.chrome import ChromeDriverManager\n",
    "from selenium.webdriver.common.by import By\n",
    "from selenium.webdriver.support.ui import WebDriverWait\n",
    "from selenium.webdriver.support import expected_conditions as EC\n",
    "import pandas as pd\n",
    "import time"
   ]
  },
  {
   "attachments": {},
   "cell_type": "markdown",
   "metadata": {},
   "source": [
    "Set up Selenium driver"
   ]
  },
  {
   "cell_type": "code",
   "execution_count": 13,
   "metadata": {},
   "outputs": [],
   "source": [
    "driver = webdriver.Chrome(service=Service(ChromeDriverManager().install()))\n",
    "driver.get(\"https://www.youtube.com\")"
   ]
  },
  {
   "attachments": {},
   "cell_type": "markdown",
   "metadata": {},
   "source": [
    "Search for videos"
   ]
  },
  {
   "cell_type": "code",
   "execution_count": null,
   "metadata": {},
   "outputs": [
    {
     "ename": "",
     "evalue": "",
     "output_type": "error",
     "traceback": [
      "\u001b[1;31mFailed to interrupt the Kernel. \n",
      "No kernel associated with the notebook. \n",
      "View Jupyter <a href='command:jupyter.viewOutput'>log</a> for further details."
     ]
    },
    {
     "ename": "",
     "evalue": "",
     "output_type": "error",
     "traceback": [
      "\u001b[1;31mFailed to interrupt the Kernel. \n",
      "No kernel associated with the notebook. \n",
      "View Jupyter <a href='command:jupyter.viewOutput'>log</a> for further details."
     ]
    },
    {
     "ename": "",
     "evalue": "",
     "output_type": "error",
     "traceback": [
      "\u001b[1;31mFailed to interrupt the Kernel. \n",
      "No kernel associated with the notebook. \n",
      "View Jupyter <a href='command:jupyter.viewOutput'>log</a> for further details."
     ]
    }
   ],
   "source": [
    "search = \"Minecraft\"\n",
    "search_box = WebDriverWait(driver, 10).until(EC.presence_of_all_element_located((By.NAME, \"search\")))\n",
    "search_box.send_keys(search)\n",
    "search_box.submit()"
   ]
  },
  {
   "attachments": {},
   "cell_type": "markdown",
   "metadata": {},
   "source": [
    "Wait for results to load"
   ]
  },
  {
   "cell_type": "code",
   "execution_count": null,
   "metadata": {},
   "outputs": [],
   "source": [
    "time.sleep(2)"
   ]
  },
  {
   "attachments": {},
   "cell_type": "markdown",
   "metadata": {},
   "source": [
    "Scroll to load more videos (scroll 3 times)"
   ]
  },
  {
   "cell_type": "code",
   "execution_count": null,
   "metadata": {},
   "outputs": [],
   "source": [
    "for _ in range(3):\n",
    "   driver.execute_script(\"window.scrollTo(0, document.documentElement.scrollHeight);\")\n",
    "   time.sleep(2)"
   ]
  },
  {
   "attachments": {},
   "cell_type": "markdown",
   "metadata": {},
   "source": [
    "Extract video elements"
   ]
  },
  {
   "cell_type": "code",
   "execution_count": null,
   "metadata": {},
   "outputs": [],
   "source": [
    "videos = driver.find_elements(By.TAG_NAME, \"ytd-video-renderer\")\n",
    "data = []\n",
    "\n",
    "for _ in videos:\n",
    "   try:\n",
    "      # Extract title\n",
    "       title = _.find_element(By.ID, \"video-title\").text\n",
    "      # Extract url\n",
    "       url = _.find_element(By.ID, \"video-title\").get_attribute(\"href\")\n",
    "      # Extract views & upload date\n",
    "       metadeta = _.find_element(By.ID, \"metadata-line\").text.split(\"\\n\")\n",
    "       views = metadeta[0] if len(metadeta) > 0 else \"N/A\"\n",
    "       upload_date = metadeta[1] if len(metadeta) > 1 else \"N/A\"\n",
    "\n",
    "       #Extract channel name\n",
    "       channel = _.find_element(By.CLASS_NAME, \"ytd-channel-name\").text\n",
    "       # Extract description (hover needed)\n",
    "       description = _.find_element(By.ID, \"description-text\").text\n",
    "\n",
    "       data.append({\n",
    "         \"Title\": title,\n",
    "         \"URL\": url,\n",
    "         \"Views\": views,\n",
    "         \"Upload Date\": upload_date,\n",
    "         \"Channel\": channel,\n",
    "         \"Description\": description\n",
    "       })  \n",
    "   except Exception as e:\n",
    "      print(f\"Error extracting data: {str(e)}\")\n",
    "      continue"
   ]
  },
  {
   "attachments": {},
   "cell_type": "markdown",
   "metadata": {},
   "source": [
    "Save to CSV"
   ]
  },
  {
   "cell_type": "code",
   "execution_count": null,
   "metadata": {},
   "outputs": [],
   "source": [
    "df = pd.DataFrame(data)\n",
    "df.to_csv(\"youtube_videos.csv\", index=False)\n",
    "print(f\"Saved {len(data)} videos to youtube_videos.csv\")"
   ]
  },
  {
   "attachments": {},
   "cell_type": "markdown",
   "metadata": {},
   "source": [
    "Close driver"
   ]
  },
  {
   "cell_type": "code",
   "execution_count": null,
   "metadata": {},
   "outputs": [],
   "source": [
    "driver.quit()"
   ]
  }
 ],
 "metadata": {
  "kernelspec": {
   "display_name": "Python 3",
   "language": "python",
   "name": "python3"
  },
  "language_info": {
   "name": "python",
   "version": "3.11.5"
  },
  "orig_nbformat": 4
 },
 "nbformat": 4,
 "nbformat_minor": 2
}
